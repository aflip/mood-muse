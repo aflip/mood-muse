{
 "cells": [
  {
   "cell_type": "markdown",
   "metadata": {},
   "source": [
    "I did some heavy testing to see how the chunked MPNET embeddings differed from the unchunked Jina embeddings. \n",
    "\n",
    "What I found was that the MPnet embeddings represented the literal information better. So the two embeddings generated complimentary and compatible results"
   ]
  },
  {
   "cell_type": "code",
   "execution_count": 1,
   "metadata": {},
   "outputs": [],
   "source": [
    "import pandas as pd"
   ]
  },
  {
   "cell_type": "code",
   "execution_count": null,
   "metadata": {},
   "outputs": [],
   "source": [
    "%pip install - r requirements.txt\n"
   ]
  },
  {
   "cell_type": "code",
   "execution_count": 1,
   "metadata": {},
   "outputs": [],
   "source": [
    "j_corpus_path = \"data/all-poems-AC-AN-jina-v2-base-en-embeddings.pkl\"\n",
    "c_corpus_path = (\n",
    "    \"data/all-poems-AC-AN-max-pooled-chunked-all-mpnet-base-v2-embeddings.pkl\"\n",
    ")"
   ]
  },
  {
   "cell_type": "code",
   "execution_count": 2,
   "metadata": {},
   "outputs": [],
   "source": [
    "import pickle\n",
    "\n",
    "with open(jc_corpus_path, \"rb\") as jcfin, open(j_corpus_path, \"rb\") as jfin, open(\n",
    "    c_corpus_path, \"rb\"\n",
    ") as cfin:\n",
    "    jc_data = pickle.load(jcfin)\n",
    "    j_data = pickle.load(jfin)\n",
    "    c_data = pickle.load(cfin)\n",
    "    poems = jc_data[\"poem\"]\n",
    "    poem_ids = jc_data[\"poem_id\"]\n",
    "    jc_corpus = jc_data[\"embedding\"]\n",
    "    j_corpus = j_data[\"embedding\"]\n",
    "    c_corpus = c_data[\"embedding\"]"
   ]
  },
  {
   "cell_type": "code",
   "execution_count": 12,
   "metadata": {},
   "outputs": [
    {
     "data": {
      "text/plain": [
       "(16807, 768)"
      ]
     },
     "execution_count": 12,
     "metadata": {},
     "output_type": "execute_result"
    }
   ],
   "source": [
    "jc_corpus.shape\n"
   ]
  },
  {
   "cell_type": "code",
   "execution_count": 14,
   "metadata": {},
   "outputs": [],
   "source": [
    "# Create Index\n",
    "import ngtpy\n",
    "\n",
    "EMB_SIZE = 768\n",
    "\n",
    "# Initialize index name\n",
    "jc_corpus_ix_name = \"indices/ngt_index_all-poems-AC-AN-2048-chunked-jina-v2-base-en\"\n",
    "\n",
    "# Create an empty index\n",
    "\n",
    "ngtpy.create(\n",
    "    path=bytes(jc_corpus_ix_name, encoding=\"utf8\"),\n",
    "    dimension=EMB_SIZE,\n",
    "    distance_type=\"Normalized Cosine\",\n",
    ")\n",
    "\n",
    "jc_corpus_ix = ngtpy.Index(bytes(jc_corpus_ix_name, encoding=\"utf8\"))\n",
    "\n",
    "# insert the objects\n",
    "\n",
    "jc_corpus_ix.batch_insert(jc_corpus)\n",
    "\n",
    "# save the index.\n",
    "jc_corpus_ix.save()"
   ]
  },
  {
   "cell_type": "code",
   "execution_count": 15,
   "metadata": {},
   "outputs": [],
   "source": [
    "# Create Index\n",
    "import ngtpy\n",
    "\n",
    "EMB_SIZE = 768\n",
    "\n",
    "# Initialize index name\n",
    "j_corpus_ix_name = \"indices/ngt_index_all-poems-AC-AN-jina-v2-base-en\"\n",
    "\n",
    "# Create an empty index\n",
    "\n",
    "ngtpy.create(\n",
    "    path=bytes(j_corpus_ix_name, encoding=\"utf8\"),\n",
    "    dimension=EMB_SIZE,\n",
    "    distance_type=\"Normalized Cosine\",\n",
    ")\n",
    "\n",
    "j_corpus_ix = ngtpy.Index(bytes(j_corpus_ix_name, encoding=\"utf8\"))\n",
    "\n",
    "# insert the objects\n",
    "\n",
    "j_corpus_ix.batch_insert(j_corpus)\n",
    "\n",
    "# save the index.\n",
    "j_corpus_ix.save()"
   ]
  },
  {
   "cell_type": "code",
   "execution_count": 16,
   "metadata": {},
   "outputs": [],
   "source": [
    "# Create Index\n",
    "import ngtpy\n",
    "\n",
    "EMB_SIZE = 768\n",
    "\n",
    "# Initialize index name\n",
    "c_corpus_ix_name = \"indices/all-poems-AC-AN-max-pooled-chunked-all-mpnet-base-v2\"\n",
    "\n",
    "# Create an empty index\n",
    "\n",
    "ngtpy.create(\n",
    "    path=bytes(c_corpus_ix_name, encoding=\"utf8\"),\n",
    "    dimension=EMB_SIZE,\n",
    "    distance_type=\"Normalized Cosine\",\n",
    ")\n",
    "\n",
    "c_corpus_ix = ngtpy.Index(bytes(c_corpus_ix_name, encoding=\"utf8\"))\n",
    "\n",
    "# insert the objects\n",
    "\n",
    "c_corpus_ix.batch_insert(c_corpus)\n",
    "\n",
    "# save the index.\n",
    "c_corpus_ix.save()"
   ]
  },
  {
   "cell_type": "code",
   "execution_count": 3,
   "metadata": {},
   "outputs": [],
   "source": [
    "import ngtpy\n",
    "\n",
    "j_corpus_ix_name = \"indices/ngt_index_all-poems-AC-AN-jina-v2-base-en\"\n",
    "j_corpus_index = ngtpy.Index(bytes(j_corpus_ix_name, encoding=\"utf8\"))\n"
   ]
  },
  {
   "cell_type": "code",
   "execution_count": 4,
   "metadata": {},
   "outputs": [],
   "source": [
    "import ngtpy\n",
    "\n",
    "c_corpus_ix_name = \"indices/all-poems-AC-AN-max-pooled-chunked-all-mpnet-base-v2\"\n",
    "c_corpus_index = ngtpy.Index(bytes(c_corpus_ix_name, encoding=\"utf8\"))\n"
   ]
  },
  {
   "cell_type": "code",
   "execution_count": 5,
   "metadata": {},
   "outputs": [
    {
     "data": {
      "application/vnd.jupyter.widget-view+json": {
       "model_id": "814e34f8fc1245078d68b9b354f65f16",
       "version_major": 2,
       "version_minor": 0
      },
      "text/plain": [
       "Downloading (…)okenizer_config.json:   0%|          | 0.00/373 [00:00<?, ?B/s]"
      ]
     },
     "metadata": {},
     "output_type": "display_data"
    }
   ],
   "source": [
    "import numpy as np\n",
    "from sentence_transformers import SentenceTransformer, CrossEncoder\n",
    "from transformers import AutoModel\n",
    "\n",
    "mp_model = SentenceTransformer(\"sentence-transformers/all-mpnet-base-v2\")\n",
    "jina_model = AutoModel.from_pretrained(\n",
    "    \"jinaai/jina-embeddings-v2-base-en\", trust_remote_code=True\n",
    ")\n",
    "cross_encoder = CrossEncoder(\"cross-encoder/ms-marco-MiniLM-L-6-v2\")\n",
    "# cross_encoder = CrossEncoder(\"Lajavaness/CrossEncoder-camembert-large\", max_length=512)"
   ]
  },
  {
   "cell_type": "code",
   "execution_count": 33,
   "metadata": {},
   "outputs": [],
   "source": [
    "def query_all_emb(query: str, count: int):\n",
    "    mpnet_query_embedding = mp_model.encode(query)\n",
    "    jina_query_embedding = jina_model.encode(query)\n",
    "    cc_results = search_c_corpus(mpnet_query_embedding, count)\n",
    "    jj_results = search_j_corpus(jina_query_embedding, count)\n",
    "\n",
    "    j_cross_inp = [[query[0], poems[result[0]]] for result in jj_results]\n",
    "    j_cross_scores = cross_encoder.predict(j_cross_inp)\n",
    "    j_corpus_result_dict = [\n",
    "        {\"corpus_id\": tup[0], \"score\": tup[1]} for tup in jj_results\n",
    "    ]\n",
    "\n",
    "    c_cross_inp = [[query[0], poems[result[0]]] for result in cc_results]\n",
    "    c_cross_scores = cross_encoder.predict(c_cross_inp)\n",
    "    c_corpus_result_dict = [\n",
    "        {\"corpus_id\": tup[0], \"score\": tup[1]} for tup in cc_results\n",
    "    ]\n",
    "\n",
    "    # Add 'cross-score' to each dict\n",
    "    for idx in range(len(j_cross_scores)):\n",
    "        j_corpus_result_dict[idx][\"cross-score\"] = j_cross_scores[idx]\n",
    "\n",
    "    print(\"Top-3 Cross-Encoder Re-ranker hits from Jina\")\n",
    "    print(\"query was: \", query)\n",
    "    j_reranked_hits = sorted(\n",
    "        j_corpus_result_dict, key=lambda x: x[\"cross-score\"], reverse=True\n",
    "    )\n",
    "    for hit in j_reranked_hits[0:3]:\n",
    "        print(\n",
    "            \"\\t{:.3f}\\t{}\".format(\n",
    "                hit[\"cross-score\"], poems[hit[\"corpus_id\"]].replace(\"\\n\", \" \")\n",
    "            )\n",
    "        )\n",
    "    for idx in range(len(c_cross_scores)):\n",
    "        c_corpus_result_dict[idx][\"cross-score\"] = c_cross_scores[idx]\n",
    "\n",
    "    print(\"Top-3 Cross-Encoder Re-ranker hits from MPNet\")\n",
    "    print(\"query was: \", query)\n",
    "    c_reranked_hits = sorted(\n",
    "        c_corpus_result_dict, key=lambda x: x[\"cross-score\"], reverse=True\n",
    "    )\n",
    "    for hit in c_reranked_hits[0:3]:\n",
    "        print(\n",
    "            \"\\t{:.3f}\\t{}\".format(\n",
    "                hit[\"cross-score\"], poems[hit[\"corpus_id\"]].replace(\"\\n\", \" \")\n",
    "            )\n",
    "        )\n",
    "\n",
    "\n",
    "def search_c_corpus(embedding: np.ndarray, count: int) -> None:\n",
    "    c_results = c_corpus_index.search(embedding, size=count)\n",
    "    print(\"All-MPNet-Chunked\")\n",
    "    print(\"ID\\tDistance\")\n",
    "    for result in c_results:\n",
    "        print(\"{}\\t{}\".format(*result))\n",
    "    print(\n",
    "        \"# of distance computations=\"\n",
    "        + str(c_corpus_index.get_num_of_distance_computations())\n",
    "    )\n",
    "    return c_results\n",
    "\n",
    "\n",
    "# def search_jc_corpus(embedding: np.ndarray, count: int) -> None:\n",
    "#     jc_results = jc_corpus_ix.search(embedding, size=count)\n",
    "#     print(\"Jina-Chunked\")\n",
    "#     print(\"ID\\tDistance\")\n",
    "#     for result in jc_results:\n",
    "#         print(\"{}\\t{}\".format(*result))\n",
    "#     print(\n",
    "#         \"# of distance computations=\"\n",
    "#         + str(jc_corpus_ix.get_num_of_distance_computations())\n",
    "#    )\n",
    "\n",
    "\n",
    "def search_j_corpus(embedding: np.ndarray, count: int) -> None:\n",
    "    j_results = j_corpus_index.search(embedding, size=count)\n",
    "    print(\"Jina\")\n",
    "    print(\"ID\\tDistance\")\n",
    "    for result in j_results:\n",
    "        print(\"{}\\t{}\".format(*result))\n",
    "    print(\n",
    "        \"# of distance computations=\"\n",
    "        + str(j_corpus_index.get_num_of_distance_computations())\n",
    "    )\n",
    "    return j_results"
   ]
  },
  {
   "cell_type": "code",
   "execution_count": 44,
   "metadata": {},
   "outputs": [
    {
     "name": "stdout",
     "output_type": "stream",
     "text": [
      "All-MPNet-Chunked\n",
      "ID\tDistance\n",
      "5600\t0.4364966154098511\n",
      "14830\t0.454415887594223\n",
      "15792\t0.46284836530685425\n",
      "338\t0.4656195640563965\n",
      "6375\t0.4805513918399811\n",
      "27\t0.4829980731010437\n",
      "11204\t0.4894413352012634\n",
      "4681\t0.4904647171497345\n",
      "9177\t0.5024305582046509\n",
      "11798\t0.5163055062294006\n",
      "# of distance computations=6941\n",
      "Jina\n",
      "ID\tDistance\n",
      "5600\t0.1718270182609558\n",
      "14750\t0.18301886320114136\n",
      "5304\t0.18790149688720703\n",
      "3379\t0.19929592311382294\n",
      "14490\t0.20940038561820984\n",
      "9046\t0.21109333634376526\n",
      "2733\t0.21349090337753296\n",
      "12485\t0.21472905576229095\n",
      "2996\t0.21675236523151398\n",
      "8467\t0.21900296211242676\n",
      "# of distance computations=13052\n",
      "Top-3 Cross-Encoder Re-ranker hits from Jina\n",
      "query was:  explaining death to children\n",
      "\t-6.659\t﻿ISo this is where the children come to die,hidden on the hospital’s highest floor.They wear their bandages like uniformsand pull their iv rigs along the hall with slow and careful steps. Or bald and pale,they lie in bright pajamas on their beds,watching another world on a screen.The mothers spend their nights inside the ward,sleeping on chairs that fold out into beds,too small to lie in comfort. Soon they slipbeside their children, as if they might meshthose small bruised bodies back into their flesh.Instinctively they feel that love so strongprotects a child. Each morning proves them wrong.No one chooses to be here. We play the partsthat we are given—horrible as they are.We try to play them well, whatever that means.We need to talk, though talking breaks our hearts.The doctors come and go like oracles,their manner cool, omniscient, and oblique.There is a word that no one ever speaks. II I put this poem aside twelve years agobecause I could not bear remembering the faces it evoked, and every lineseemed—still seems—so inadequate and grim.What right had I, whose son had walked away, to speak for those who died? And I’ll admitI wanted to forget. I’d lost one childand couldn’t bear to watch another die.Not just the silent boy who shared our room,but even the bird-thin figures dimly glimpsedshuffling deliberately, disjointedlylike ancient soldiers after a parade.Whatever strength the task required I lacked. No well-stitched words could suture shut these wounds. And so I stopped...But there are poems we do not choose to write. III The children visit me, not just in dream,appearing suddenly, silently—insistent, unprovoked, unwelcome.They’ve taken off their milky bandagesto show the raw, red lesions they still bear.Risen they are healed but not made whole.A few I recognize, untouched by years.I cannot name them—their faces pale and graylike ashes fallen from a distant fire.What use am I to them, almost a stranger?I cannot wake them from their satin beds.Why do they seek me? They never speak.And vagrant sorrow cannot bless the dead\n",
      "\t-6.915\tDeath is a funny thing. Most people are afraid of it, and yet they don't even know what it is. Perhaps we can clear this up. What is death? Death is it. That's it. Finished. \"Finito.\" Over and out. No more. Death is many different things to many different people. I think it is safe to say, however, that most people don't like it. Why? Because they are afraid of it. Why are they afraid of it? Because they don't understand it. I think that the best way to try to understand death is to think about it a lot. Try to come to terms with it. Try to really understand it. Give it a chance! Sometimes it helps if we try to visualize things. Try to visualize, for example, someone sneaking up behind your back and hitting you over the head with a giant hammer. Some people prefer to think of death as a more spiritual thing. Where the soul somehow separates itself from the mess and goes on living forever somewhere else. Heaven and hell being the most traditional choices. Death has a very black reputation but, actually, to die is a perfectly normal thing to do. And it's so wholesome: being a very important part of nature's big picture. Trees die, don't they? And flowers? I think it's always nice to know that you are not alone. Even in death. Let's think about ants for a minute. Millions of ants die every day, and do we care? No. And I'm sure that ants feel the same way about us. But suppose—just suppose—that we didn't have to die. That wouldn't be so great either. If a 90-year-old man can hardly stand up, can you imagine what it would be like to be 500 years old? Another comforting thought about death is that 80 years or so after you die nobody who knew you will still be alive to miss you. And after you're dead, you won't even know it\n",
      "\t-7.188\tOn Death's domain intent I fix my eyes, Where human nature in vast ruin lies, With pensive mind I search the drear abode, Where the great conqu'ror has his spoils bestow'd; There there the offspring of six thousand years In endless numbers to my view appears: Whole kingdoms in his gloomy den are thrust, And nations mix with their primeval dust: Insatiate still he gluts the ample tomb; His is the present, his the age to come See here a brother, here a sister spread, And a sweet daughter mingled with the dead. But, Madam, let your grief be laid aside, And let the fountain of your tears be dry'd, In vain they flow to wet the dusty plain, Your sighs are wafted to the skies in vain, Your pains they witness, but they can no more, While Death reigns tyrant o'er this mortal shore. The glowing stars and silver queen of light At last must perish in the gloom of night: Resign thy friends to that Almighty hand, Which gave them life, and bow to his command; Thine Avis give without a murm'ring heart, Though half thy soul be fated to depart. To shining guards consign thine infant care To waft triumphant through the seas of air: Her soul enlarg'd to heav'nly pleasure springs, She feeds on truth and uncreated things. Methinks I hear her in the realms above, And leaning forward with a filial love, Invite you there to share immortal bliss Unknown, untasted in a state like this. With tow'ring hopes, and growing grace arise, And seek beatitude beyond the skies\n",
      "Top-3 Cross-Encoder Re-ranker hits from MPNet\n",
      "query was:  explaining death to children\n",
      "\t-6.915\tDeath is a funny thing. Most people are afraid of it, and yet they don't even know what it is. Perhaps we can clear this up. What is death? Death is it. That's it. Finished. \"Finito.\" Over and out. No more. Death is many different things to many different people. I think it is safe to say, however, that most people don't like it. Why? Because they are afraid of it. Why are they afraid of it? Because they don't understand it. I think that the best way to try to understand death is to think about it a lot. Try to come to terms with it. Try to really understand it. Give it a chance! Sometimes it helps if we try to visualize things. Try to visualize, for example, someone sneaking up behind your back and hitting you over the head with a giant hammer. Some people prefer to think of death as a more spiritual thing. Where the soul somehow separates itself from the mess and goes on living forever somewhere else. Heaven and hell being the most traditional choices. Death has a very black reputation but, actually, to die is a perfectly normal thing to do. And it's so wholesome: being a very important part of nature's big picture. Trees die, don't they? And flowers? I think it's always nice to know that you are not alone. Even in death. Let's think about ants for a minute. Millions of ants die every day, and do we care? No. And I'm sure that ants feel the same way about us. But suppose—just suppose—that we didn't have to die. That wouldn't be so great either. If a 90-year-old man can hardly stand up, can you imagine what it would be like to be 500 years old? Another comforting thought about death is that 80 years or so after you die nobody who knew you will still be alive to miss you. And after you're dead, you won't even know it\n",
      "\t-7.202\t———A simple Child, That lightly draws its breath, And feels its life in every limb, What should it know of death? I met a little cottage Girl: She was eight years old, she said; Her hair was thick with many a curl That clustered round her head. She had a rustic, woodland air, And she was wildly clad: Her eyes were fair, and very fair; —Her beauty made me glad. “Sisters and brothers, little Maid, How many may you be?” “How many? Seven in all,” she said, And wondering looked at me. “And where are they? I pray you tell.” She answered, “Seven are we; And two of us at Conway dwell, And two are gone to sea. “Two of us in the church-yard lie, My sister and my brother; And, in the church-yard cottage, I Dwell near them with my mother.” “You say that two at Conway dwell, And two are gone to sea, Yet ye are seven! I pray you tell, Sweet Maid, how this may be.” Then did the little Maid reply, “Seven boys and girls are we; Two of us in the church-yard lie, Beneath the church-yard tree.” “You run about, my little Maid, Your limbs they are alive; If two are in the church-yard laid, Then ye are only five.” “Their graves are green, they may be seen,” The little Maid replied, “Twelve steps or more from my mother’s door, And they are side by side. “My stockings there I often knit, My kerchief there I hem; And there upon the ground I sit, And sing a song to them. “And often after sun-set, Sir, When it is light and fair, I take my little porringer, And eat my supper there. “The first that died was sister Jane; In bed she moaning lay, Till God released her of her pain; And then she went away. “So in the church-yard she was laid; And, when the grass was dry, Together round her grave we played, My brother John and I. “And when the ground was white with snow, And I could run and slide, My brother John was forced to go, And he lies by her side.” “How many are you, then,” said I, “If they two are in heaven?” Quick was the little Maid’s reply, “O Master! we are seven.” “But they are dead; those two are dead! Their spirits are in heaven!” ’Twas throwing words away; for still The little Maid would have her will, And said, “Nay, we are seven!”\n",
      "\t-7.869\tThere is another world, but it is in this one. Paul Eluard First there were those who died before I was born. It was as if they had just left and their shadows would slip out after them under the door so recently closed the air in its path was still swirling to rest. Some of the furniture came from them, I was told, and one day I opened two chests of drawers to learn what the dead kept. But it was when I learned to read that I began always to live among the dead. I remember Rapunzel, the improved animals in the Just-So Stories, and a flock of birds that saved themselves from a hunter by flying in place in the shape of a tree, their wings imitating the whisk of wind in the leaves. My sons and I are like some wine the dead have already bottled. They wish us well, but there is nothing they can do for us. Sebastian cries in his sleep, I bring him into my bed, talk to him, rub his back. To help his sons live easily among the dead is a father’s great work. Now Sebastian drifts, soon he’ll sleep. We can almost hear the dead breathing. They sound like water under a ship at sea. To love the dead is easy. They are final, perfect. But to love a child is sometimes to fail at love while the dead look on with their abstract sorrow. To love a child is to turn away from the patient dead. It is to sleep carefully in case he cries. Later, when my sons are grown among their own dead, I can dive easily into sleep and loll among the coral of my dreams growing on themselves until at the end I almost never dream of anyone, except my sons, who is still alive\n"
     ]
    }
   ],
   "source": [
    "query_all_emb(\"explaining death to children\", 10)\n"
   ]
  },
  {
   "cell_type": "code",
   "execution_count": 37,
   "metadata": {},
   "outputs": [
    {
     "data": {
      "text/plain": [
       "56302"
      ]
     },
     "execution_count": 37,
     "metadata": {},
     "output_type": "execute_result"
    }
   ],
   "source": [
    "poem_ids[16389]\n"
   ]
  },
  {
   "cell_type": "code",
   "execution_count": 6,
   "metadata": {},
   "outputs": [],
   "source": [
    "def query_all_emb(query: str, count: int):\n",
    "    mpnet_query_embedding = mp_model.encode(query)\n",
    "    jina_query_embedding = jina_model.encode(query)\n",
    "    cc_results = search_c_corpus(mpnet_query_embedding, count)\n",
    "    jj_results = search_j_corpus(jina_query_embedding, count)\n",
    "\n",
    "    unique_tuples = {}\n",
    "\n",
    "    # Add tuples from list1 to the dictionary\n",
    "    for tup in cc_results:\n",
    "        unique_tuples[tup[0]] = tup\n",
    "\n",
    "    # Add tuples from list2 to the dictionary, overwriting any duplicates from list1\n",
    "    for tup in jj_results:\n",
    "        unique_tuples[tup[0]] = tup\n",
    "\n",
    "    # Convert the dictionary values back to a list\n",
    "    combo_results = list(unique_tuples.values())\n",
    "\n",
    "    combo_cross_inp = [[query[0], poems[result[0]]] for result in combo_results]\n",
    "    combo_cross_scores = cross_encoder.predict(combo_cross_inp)\n",
    "    combo_corpus_result_dict = [\n",
    "        {\"corpus_id\": tup[0], \"score\": tup[1]} for tup in combo_results\n",
    "    ]\n",
    "    for idx in range(len(combo_cross_scores)):\n",
    "        combo_corpus_result_dict[idx][\"cross-score\"] = combo_cross_scores[idx]\n",
    "\n",
    "    print(\"Top-3 Cross-Encoder Re-ranker hits from Jina\")\n",
    "    print(\"query was: \", query)\n",
    "    combo_reranked_hits = sorted(\n",
    "        combo_corpus_result_dict, key=lambda x: x[\"cross-score\"], reverse=True\n",
    "    )\n",
    "    for hit in combo_reranked_hits[0:5]:\n",
    "        print(\n",
    "            \"\\t{:.3f}\\t{}\".format(\n",
    "                hit[\"cross-score\"], poems[hit[\"corpus_id\"]].replace(\"\\n\", \" \")\n",
    "            )\n",
    "        )\n",
    "\n",
    "\n",
    "def search_c_corpus(embedding: np.ndarray, count: int) -> None:\n",
    "    c_results = c_corpus_index.search(embedding, size=count)\n",
    "    print(\"All-MPNet-Chunked\")\n",
    "    print(\"ID\\tDistance\")\n",
    "    for result in c_results:\n",
    "        print(\"{}\\t{}\".format(*result))\n",
    "    print(\n",
    "        \"# of distance computations=\"\n",
    "        + str(c_corpus_index.get_num_of_distance_computations())\n",
    "    )\n",
    "    return c_results\n",
    "\n",
    "\n",
    "def search_j_corpus(embedding: np.ndarray, count: int) -> None:\n",
    "    j_results = j_corpus_index.search(embedding, size=count)\n",
    "    print(\"Jina\")\n",
    "    print(\"ID\\tDistance\")\n",
    "    for result in j_results:\n",
    "        print(\"{}\\t{}\".format(*result))\n",
    "    print(\n",
    "        \"# of distance computations=\"\n",
    "        + str(j_corpus_index.get_num_of_distance_computations())\n",
    "    )\n",
    "    return j_results"
   ]
  },
  {
   "cell_type": "code",
   "execution_count": 8,
   "metadata": {},
   "outputs": [
    {
     "name": "stdout",
     "output_type": "stream",
     "text": [
      "All-MPNet-Chunked\n",
      "ID\tDistance\n",
      "3006\t0.33397549390792847\n",
      "11854\t0.34220629930496216\n",
      "13007\t0.3424101173877716\n",
      "9241\t0.34329450130462646\n",
      "7629\t0.34359729290008545\n",
      "15135\t0.34834399819374084\n",
      "2032\t0.34856417775154114\n",
      "13240\t0.34860917925834656\n",
      "2008\t0.35346338152885437\n",
      "13148\t0.3554849922657013\n",
      "# of distance computations=2016\n",
      "Jina\n",
      "ID\tDistance\n",
      "12746\t0.16509942710399628\n",
      "4072\t0.1734418272972107\n",
      "13176\t0.17497900128364563\n",
      "588\t0.17662417888641357\n",
      "9592\t0.17838580906391144\n",
      "11032\t0.18057706952095032\n",
      "16194\t0.18261007964611053\n",
      "2181\t0.18518666923046112\n",
      "6855\t0.1854131817817688\n",
      "13108\t0.18553785979747772\n",
      "# of distance computations=2768\n",
      "Top-3 Cross-Encoder Re-ranker hits from Jina\n",
      "query was:  introspective poem about the passing nature of reality\n",
      "\t-3.577\tOne of us is a faucet reconciling to the temperature of indifference. This is the world: the drawer assembled by you pinches a finger before yielding. There are so many foreigners here, I said, when I first stepped onto a beach in Virginia. I had an idea of the ocean, and of who I was. I am in water now, attempting to see the ocean. We lick our wounds with the same tongue. Long accustomed to carrying a gauze for shield, the heart wraps bruises like dumplings. I see the sun through my neighbour's window, whelked in lace. Is this what we mean when we use the word \"virtual\"? Tulips grow even after they're cut. The ones I loved, having died without returning, crowd the heart's waiting room. To start all over again is to imagine the world is, as it is. I give up; I thought this was a poem about nation, the one she began at nineteen. The one she waits to return to: her eyes never adjusting to the colors of exile. This antechamber; this long incision called hope. Last night I crossed to the other side, unwelcome territory. I might have been sad. My broke heart. I'd been observing then, the sun's influence, subjugated by streetlights imitating moonlight. Even the sun softens, (I had thought to myself) to bring every image in view as a memory of some other place, some other text. Last night, I slept in a borrowed bed for guests I anticipated, as host to self's solitary marriage. I examined the world, thus altered. Later, standing at the precipice, I awoke. Even sleep did not take me back. And the signal—being green—I walked\n",
      "\t-3.696\tI was instructed not to go out into society because of a temporary matter where corpses were multiplying every day. I thought it was a chance to do something I hadn’t done, and so I signed up for an introductory poetry course on a Massive Open Online Course because I am a beginner at poetry and am a good self­-learner. The course reached out to me: Start learning today by watching your first video: watch a video on Emily Dickinson’s “I dwell in Possibility.” I was not sure whether my residence was possibility. My chamber, upstairs, has two windows—one of them offers a view of the magnolia tree in the garden below; its thousands of purple and white shapes loom up toward me, with a perfect curve for the blue sky. I counted the flowers in the tree. Watching the light accumulating in the tree was the only thing I could do at the time. I was subtracted from the world. I saw light as not a form but life; light not a concept but a rhythm. Light not understanding but inspiration after all. Every moment big bees in wrappers of purple and white\n",
      "\t-3.944\tThe process of through is ongoing.The earth doesn’t seem to move, but sometimes we falldown against it and seem to briefly alight on its turning.We were just going. I was just leaving, which is to say, comingelsewhere. Transient. I was going as I came, the words move through my limbs, lungs, mouth, as I appear to sitpeacefully at your hearth transubstantiating some wine. It was a rough red, it was one of those nights we were notforced by circumstances to drink wine out of mugs.Circumstances being, in those cases, no one had beentransfixed at the kitchen sink long enough to wash dishes. I brought armfuls of wood from the splitting stump.Many of them, because it was cold, went right on top of their recent ancestors. It was an ice night.They transpired visibly, resin to spark, bark to smoke, wood to ash. I wastransgendering and drinking the rough red at roughly the same rate and everyone who looked, saw.The translucence of flames beat against the air against our skins. This can be done withor without clothes on. This can be done with or without wine or whiskey but never without water:evaporation is also ongoing. Most visibly in this case in the form of wisps of steam rising from the just washed hairof a form at the fire whose beauty was in the earth’s turning, that night and many nights, transcendent.I felt heat changing me. The word for this is transdesire, but in extreme cases we call it transdireor when this heat becomes your maker we say transire, or when it happens in front of a hearth:transfire\n",
      "\t-3.999\tAlready one day has detached itself from all the rest up ahead. It has my photograph in its soft pocket. It wants to carry my breath into the past in its bag of wind. I write poems to untie myself, to do penance and disappear Through the upper right-hand corner of things, to say grace\n",
      "\t-4.040\tthis morning I felt my life if you were dead the expansiveness of the bed the birds still singing the remnants of the smell of coffee in the morning the emptiness of thought the deafening silence of my heart\n"
     ]
    }
   ],
   "source": [
    "query_all_emb(\"introspective poem about the passing nature of reality\", 10)\n"
   ]
  },
  {
   "cell_type": "code",
   "execution_count": 106,
   "metadata": {},
   "outputs": [
    {
     "data": {
      "text/plain": [
       "'1 When you have been on trains on buses on the road with someone for months living with each other’s filthy teenager things you don’t expect him to come up with a neat shirt and black trousers from the bottom of his backpack on the last night which is what he did looking like a waiter his hair windblown across continents now cut as if for a ceremony his blue eyes like the summer’s oceans but before the dinner and the next morning’s flights to separate places we had to go find Karl Marx’s grave taking the underground across the city walking under the rippling trees of the cemetery the green of the place like cinematography and finally we are standing in front of the famous man’s enormous bronze head and I am looking at him looking at it I am looking at the side of his smiling face his ear and the speck of shaving cream I point out to him wanting to touch him there thirty years his white shirt ahead of me on the path back. 2 On the podcast the psychologist talking about death and our need to accept death describes a state he calls an anticipatory resoluteness with solicitous regard for others that will make your life seem an adventure profused with unshakable joy those were his exact words I wrote them down understanding that what needed such breathless saying I have brought to one word you the one word encompassing all language all tasks all meaning you like those saints in paintings working with a skull on their desks like the psychologist saying that the knowledge of death makes for an enlightened life but instead of knowledge or a skull on my desk there is you and the little blur the little flicker the little bloom of it on the page you which is only to say he was right the scholar of poetry who insisted that the work of poetry is the work of preserving the fact of the beloved the you of the beloved the work of poetry is preserving the face of the beloved. 3 Like the boy with a flower behind his ear who’s been interrupted in his pleasure a pleasure first figured in the sprigs of jasmine and rose in a round clear vase on the table the water in the vase so full as though it’s just been filled the leaves of the flowers also full of the glossiness of the clean water and of the plums and cherries also on the table the fruit rendered by the painter in a tumbling cascade just at the base of the boy’s torso where the painting is in shadow is shadowed with a kind of privacy the last and long part of your looking where you will finally notice the boy’s finger bitten by the lizard still dangling from the finger the lizard that must have emerged like a snake from the Eden of those fruits the boy’s recoil figured in the gasp of the mouth and the shoulder torqued from its white blouse the shoulder that’s also jasmine and rose in the Roman sunlight describing it these four hundred years'"
      ]
     },
     "execution_count": 106,
     "metadata": {},
     "output_type": "execute_result"
    }
   ],
   "source": [
    "poems[6855]\n"
   ]
  },
  {
   "cell_type": "code",
   "execution_count": 19,
   "metadata": {},
   "outputs": [],
   "source": [
    "def query_all_emb(query: str, count: int):\n",
    "    mpnet_query_embedding = mp_model.encode(query)\n",
    "    jina_query_embedding = jina_model.encode(query)\n",
    "    cc_results = search_c_corpus(mpnet_query_embedding, count)\n",
    "    jj_results = search_j_corpus(jina_query_embedding, count)\n",
    "\n",
    "    combo_results = combine_and_unique_results(cc_results, jj_results)\n",
    "\n",
    "    combo_corpus_result_dict = cross_scores_and_dict(query, combo_results)\n",
    "    return print_top_hits(query, combo_corpus_result_dict)\n",
    "\n",
    "\n",
    "def combine_and_unique_results(list1, list2):\n",
    "    unique_tuples = {tup[0]: tup for tup in list1 + list2}\n",
    "    return list(unique_tuples.values())\n",
    "\n",
    "\n",
    "def cross_scores_and_dict(query, results):\n",
    "    cross_inp = [[query[0], poems[result[0]]] for result in results]\n",
    "    cross_scores = cross_encoder.predict(cross_inp)\n",
    "    result_dict = [\n",
    "        {\"corpus_id\": tup[0], \"score\": tup[1], \"cross-score\": score}\n",
    "        for tup, score in zip(results, cross_scores)\n",
    "    ]\n",
    "    return result_dict\n",
    "\n",
    "\n",
    "def print_top_hits(query, result_dict, top=5):\n",
    "    reranked_hits = sorted(result_dict, key=lambda x: x[\"cross-score\"], reverse=True)\n",
    "    print(\"Top-{} Cross-Encoder Re-ranker hits\".format(top))\n",
    "    print(\"query was: \", query)\n",
    "    for hit in reranked_hits[:top]:\n",
    "        print(\n",
    "            \"\\t{:.3f}\\t{}\".format(\n",
    "                hit[\"cross-score\"], poems[hit[\"corpus_id\"]].replace(\"\\n\", \" \")\n",
    "            )\n",
    "        )\n",
    "\n",
    "\n",
    "def search_c_corpus(embedding: np.ndarray, count: int) -> None:\n",
    "    return c_corpus_index.search(embedding, size=count)\n",
    "\n",
    "\n",
    "def search_j_corpus(embedding: np.ndarray, count: int) -> None:\n",
    "    return j_corpus_index.search(embedding, size=count)"
   ]
  },
  {
   "cell_type": "code",
   "execution_count": 23,
   "metadata": {},
   "outputs": [
    {
     "name": "stdout",
     "output_type": "stream",
     "text": [
      "Top-5 Cross-Encoder Re-ranker hits\n",
      "query was:  I lov’d thee from the earliest dawn, When first I saw thy beauty’s ray, And will, until life’s eve comes on, And beauty’s blossom fades away; And when all things go well with thee, With smiles and tears remember me. I’ll love thee when thy morn is past, And wheedling gallantry is o’er, When youth is lost in age’s blast, And beauty can ascend no more, And when life’s journey ends with thee\n",
      "\t-1.902\tI lov’d thee from the earliest dawn, When first I saw thy beauty’s ray, And will, until life’s eve comes on, And beauty’s blossom fades away; And when all things go well with thee, With smiles and tears remember me. I’ll love thee when thy morn is past, And wheedling gallantry is o’er, When youth is lost in age’s blast, And beauty can ascend no more, And when life’s journey ends with thee, O, then look back and think of me. I’ll love thee with a smile or frown, ’Mid sorrow’s gloom or pleasure’s light, And when the chain of life runs down, Pursue thy last eternal flight, When thou hast spread thy wing to flee, Still, still, a moment wait for me. I’ll love thee for those sparkling eyes, To which my fondness was betray’d, Bearing the tincture of the skies, To glow when other beauties fade, And when they sink too low to see, Reflect an azure beam on me\n",
      "\t-2.871\tWhen you, that at this moment are to me Dearer than words on paper, shall depart, And be no more the warder of my heart, Whereof again myself shall hold the key; And be no more—what now you seem to be— The sun, from which all excellences start In a round nimbus, nor a broken dart Of moonlight, even, splintered on the sea; I shall remember only of this hour— And weep somewhat, as now you see me weep— The pathos of your love, that, like a flower, Fearful of death yet amorous of sleep, Droops for a moment and beholds, dismayed, The wind whereon its petals shall be laid\n",
      "\t-3.034\tMy sweet did sweetly sleep, And on her rosy face Stood tears of pearl, which beauty’s self did weep; I, wond’ring at her grace, Did all amaz’d remain, When Love said, “Fool, can looks thy wishes crown? Time past comes not again.” Then did I me bow down, And kissing her fair breast, lips, cheeks, and eyes Prov’d here on earth the joys of paradise\n",
      "\t-3.217\tLove peruse me, seeke, and findeHow each corner of my minde Is a twine Woven to shine.Not a Webb ill made, foule fram’d,Bastard not by Father nam’d, Such in me Cannot bee.Deare behold me, you shall seeFaith the Hive, and love the Bee, Which doe bring. Gaine and sting.Pray desect me, sinewes, vaines,Hold, and loves life in those gaines; Lying bare To despaire,When you thus anotamiseAll my body, my heart prise; Being true Just to you.Close the Truncke, embalme the Chest,Where your power still shall rest, Joy entombe, Loves just doome\n",
      "\t-3.651\tLet it not your wonder move, Less your laughter, that I love. Though I now write fifty years, I have had, and have, my peers; Poets, though divine, are men, Some have lov'd as old again. And it is not always face, Clothes, or fortune, gives the grace; Or the feature, or the youth. But the language and the truth, With the ardour and the passion, Gives the lover weight and fashion. If you then will read the story, First prepare you to be sorry That you never knew till now Either whom to love or how; But be glad, as soon with me, When you know that this is she Of whose beauty it was sung; She shall make the old man young, Keep the middle age at stay, And let nothing high decay, Till she be the reason why All the world for love may die\n"
     ]
    }
   ],
   "source": [
    "query_all_emb(\n",
    "    \"I lov’d thee from the earliest dawn, When first I saw thy beauty’s ray, And will, until life’s eve comes on, And beauty’s blossom fades away; And when all things go well with thee, With smiles and tears remember me. I’ll love thee when thy morn is past, And wheedling gallantry is o’er, When youth is lost in age’s blast, And beauty can ascend no more, And when life’s journey ends with thee\",\n",
    "    20,\n",
    ")"
   ]
  }
 ],
 "metadata": {
  "kernelspec": {
   "display_name": "base",
   "language": "python",
   "name": "python3"
  },
  "language_info": {
   "codemirror_mode": {
    "name": "ipython",
    "version": 3
   },
   "file_extension": ".py",
   "mimetype": "text/x-python",
   "name": "python",
   "nbconvert_exporter": "python",
   "pygments_lexer": "ipython3",
   "version": "3.10.0"
  },
  "orig_nbformat": 4
 },
 "nbformat": 4,
 "nbformat_minor": 2
}
