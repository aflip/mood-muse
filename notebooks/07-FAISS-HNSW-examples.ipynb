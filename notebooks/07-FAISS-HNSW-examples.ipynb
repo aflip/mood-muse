{
 "cells": [
  {
   "cell_type": "markdown",
   "metadata": {},
   "source": [
    "## FAISS index"
   ]
  },
  {
   "cell_type": "code",
   "execution_count": null,
   "metadata": {},
   "outputs": [
    {
     "name": "stdout",
     "output_type": "stream",
     "text": [
      "time: 36.6 ms (started: 2023-10-16 02:04:29 +05:30)\n"
     ]
    }
   ],
   "source": [
    "import faiss\n"
   ]
  },
  {
   "cell_type": "code",
   "execution_count": null,
   "metadata": {},
   "outputs": [
    {
     "data": {
      "text/plain": [
       "518.5672569686598"
      ]
     },
     "metadata": {},
     "output_type": "display_data"
    },
    {
     "name": "stdout",
     "output_type": "stream",
     "text": [
      "time: 1.19 ms (started: 2023-10-16 02:04:42 +05:30)\n"
     ]
    }
   ],
   "source": [
    "from math import sqrt\n",
    "\n",
    "4 * sqrt(len(corpus_embeddings))"
   ]
  },
  {
   "cell_type": "code",
   "execution_count": null,
   "metadata": {},
   "outputs": [
    {
     "name": "stdout",
     "output_type": "stream",
     "text": [
      "time: 402 µs (started: 2023-10-16 02:05:33 +05:30)\n"
     ]
    }
   ],
   "source": [
    "embedding_size = 768  # Size of embeddings\n",
    "top_k_hits = 5  # Output k hits\n",
    "# Number of clusters used for faiss. Select a value 4*sqrt(N) to 16*sqrt(N) - https://github.com/facebookresearch/faiss/wiki/Guidelines-to-choose-an-index\n",
    "n_clusters = 400"
   ]
  },
  {
   "cell_type": "code",
   "execution_count": null,
   "metadata": {},
   "outputs": [
    {
     "name": "stdout",
     "output_type": "stream",
     "text": [
      "time: 375 µs (started: 2023-10-16 02:10:43 +05:30)\n"
     ]
    }
   ],
   "source": [
    "quantizer = faiss.IndexFlatIP(embedding_size)\n",
    "faiss_index = faiss.IndexIVFFlat(\n",
    "    quantizer, embedding_size, n_clusters, faiss.METRIC_INNER_PRODUCT\n",
    ")\n",
    "\n",
    "# Number of clusters to explorer at search time.\n",
    "faiss_index.nprobe = 10"
   ]
  },
  {
   "cell_type": "code",
   "execution_count": null,
   "metadata": {},
   "outputs": [
    {
     "name": "stdout",
     "output_type": "stream",
     "text": [
      "time: 3.84 s (started: 2023-10-16 02:10:47 +05:30)\n"
     ]
    }
   ],
   "source": [
    "import numpy as np\n",
    "\n",
    "# First, we need to normalize vectors to unit length\n",
    "corpus_embeddings_lin = (\n",
    "    corpus_embeddings / np.linalg.norm(corpus_embeddings, axis=1)[:, None]\n",
    ")\n",
    "\n",
    "# Then we train the index to find a suitable clustering\n",
    "faiss_index.train(corpus_embeddings)\n",
    "\n",
    "# Finally we add all embeddings to the index\n",
    "faiss_index.add(corpus_embeddings)\n"
   ]
  },
  {
   "cell_type": "code",
   "execution_count": null,
   "metadata": {},
   "outputs": [
    {
     "name": "stdout",
     "output_type": "stream",
     "text": [
      "time: 175 µs (started: 2023-10-16 02:12:32 +05:30)\n"
     ]
    }
   ],
   "source": [
    "inp_question = \"dying alone\""
   ]
  },
  {
   "cell_type": "code",
   "execution_count": null,
   "metadata": {},
   "outputs": [
    {
     "name": "stdout",
     "output_type": "stream",
     "text": [
      "Input question: dying alone\n",
      "\t0.479\t1974\n",
      "\t0.475\t5600\n",
      "\t0.460\t10532\n",
      "\t0.444\t650\n",
      "\t0.430\t16801\n",
      "time: 10.2 ms (started: 2023-10-16 02:14:21 +05:30)\n"
     ]
    }
   ],
   "source": [
    "question_embedding = model.encode(inp_question)\n",
    "\n",
    "# FAISS works with inner product (dot product). When we normalize vectors to unit length, inner product is equal to cosine similarity\n",
    "question_embedding = question_embedding / np.linalg.norm(question_embedding)\n",
    "question_embedding = np.expand_dims(question_embedding, axis=0)\n",
    "\n",
    "# Search in FAISS. It returns a matrix with distances and corpus ids.\n",
    "distances, corpus_ids = faiss_index.search(question_embedding, top_k_hits)\n",
    "\n",
    "# We extract corpus ids and scores for the first query\n",
    "hits = [\n",
    "    {\"corpus_id\": id, \"score\": score} for id, score in zip(corpus_ids[0], distances[0])\n",
    "]\n",
    "hits = sorted(hits, key=lambda x: x[\"score\"], reverse=True)\n",
    "\n",
    "print(\"Input question:\", inp_question)\n",
    "for hit in hits[0:top_k_hits]:\n",
    "    print(\"\\t{:.3f}\\t{}\".format(hit[\"score\"], hit[\"corpus_id\"]))"
   ]
  },
  {
   "cell_type": "code",
   "execution_count": null,
   "metadata": {},
   "outputs": [
    {
     "name": "stdout",
     "output_type": "stream",
     "text": [
      "By: Vera Pavlova\n",
      " When the very last griefdeadens all our pain,I will follow you thereon the very next train,not because I lack strength to ponder the end result,but maybe you forgot to bringpills, a necktie, razor blades . .\n",
      "time: 216 µs (started: 2023-10-16 02:14:16 +05:30)\n"
     ]
    }
   ],
   "source": [
    "print(poems[16801])"
   ]
  },
  {
   "cell_type": "markdown",
   "metadata": {},
   "source": [
    "## HNSW"
   ]
  },
  {
   "cell_type": "code",
   "execution_count": null,
   "metadata": {},
   "outputs": [
    {
     "name": "stdout",
     "output_type": "stream",
     "text": [
      "time: 3.01 ms (started: 2023-09-12 16:54:23 +00:00)\n"
     ]
    }
   ],
   "source": [
    "import hnswlib\n",
    "import os"
   ]
  },
  {
   "cell_type": "code",
   "execution_count": null,
   "metadata": {},
   "outputs": [
    {
     "name": "stdout",
     "output_type": "stream",
     "text": [
      "time: 1.55 ms (started: 2023-09-10 13:36:41 +00:00)\n"
     ]
    }
   ],
   "source": [
    "embedding_size = 768\n",
    "hnsw_index_path = \"./hnswlib.index\"\n",
    "\n",
    "\n",
    "hnsw_index = hnswlib.Index(space = 'cosine', dim = embedding_size)\n"
   ]
  },
  {
   "cell_type": "code",
   "execution_count": null,
   "metadata": {},
   "outputs": [
    {
     "name": "stdout",
     "output_type": "stream",
     "text": [
      "Saving index to: ./hnswlib.index\n",
      "Corpus loaded with 13716 poems / embeddings\n",
      "time: 3.04 s (started: 2023-09-10 13:36:55 +00:00)\n"
     ]
    }
   ],
   "source": [
    "# if os.path.exists(hnsw_index_path):\n",
    "#     print(\"Loading index...\")\n",
    "#     hnsw_index.load_index(hnsw_index_path)\n",
    "# else:\n",
    "#     ### Create the HNSWLIB index\n",
    "#     print(\"Start creating HNSWLIB index\")\n",
    "hnsw_index.init_index(max_elements = len(corpus_embeddings), ef_construction = 400, M = 64)\n",
    "\n",
    "# Then we train the index to find a suitable clustering\n",
    "hnsw_index.add_items(corpus_embeddings, list(range(len(corpus_embeddings))))\n",
    "\n",
    "print(\"Saving index to:\", hnsw_index_path)\n",
    "hnsw_index.save_index(hnsw_index_path)\n",
    "\n",
    "# Controlling the recall by setting ef:\n",
    "\n",
    "\n",
    "hnsw_index.set_ef(50)  # ef should always be > top_k_hits\n",
    "\n",
    "######### Search in the index ###########\n",
    "\n",
    "print(\"Corpus loaded with {} poems / embeddings\".format(len(poem)))"
   ]
  },
  {
   "cell_type": "code",
   "execution_count": null,
   "metadata": {},
   "outputs": [
    {
     "name": "stdout",
     "output_type": "stream",
     "text": [
      "time: 796 µs (started: 2023-09-10 13:37:03 +00:00)\n"
     ]
    }
   ],
   "source": [
    "inp_question = \"being homosexual\""
   ]
  },
  {
   "cell_type": "code",
   "execution_count": null,
   "metadata": {},
   "outputs": [
    {
     "name": "stdout",
     "output_type": "stream",
     "text": [
      "Input question: being homosexual\n",
      "\t0.385\t10761\n",
      "\t0.360\t4497\n",
      "\t0.348\t8778\n",
      "\t0.341\t11450\n",
      "\t0.317\t12093\n",
      "time: 40 ms (started: 2023-09-10 13:37:06 +00:00)\n"
     ]
    }
   ],
   "source": [
    "top_k_hits =5\n",
    "question_embedding = model.encode(inp_question)\n",
    "\n",
    "#We use hnswlib knn_query method to find the top_k_hits\n",
    "corpus_ids, distances = hnsw_index.knn_query(question_embedding, k=top_k_hits)\n",
    "\n",
    "# We extract corpus ids and scores for the first query\n",
    "hits = [{'corpus_id': id, 'score': 1-score} for id, score in zip(corpus_ids[0], distances[0])]\n",
    "hits = sorted(hits, key=lambda x: x['score'], reverse=True)\n",
    "\n",
    "print(\"Input question:\", inp_question)\n",
    "for hit in hits[0:top_k_hits]:\n",
    "    print(\"\\t{:.3f}\\t{}\".format(hit['score'], hit['corpus_id']))"
   ]
  },
  {
   "cell_type": "code",
   "execution_count": null,
   "metadata": {},
   "outputs": [
    {
     "name": "stdout",
     "output_type": "stream",
     "text": [
      "Bob Hicok You can’t trust lesbians. You invite them to your party and they don’t come, they’re too busy tending vaginal flowers, hating football, walking their golden and chocolate labs. X gave me a poem in which she was in love with a woman and the church but the church couldn’t accept four breasts in one bed. When I asked if our coworkers knew, she dropped her head and I said nothing for years until this morning I realized no one reads poems: my secrets and hersare safe in verse. I knew she’d have enjoyed the Beaujolais and I want to meet Dianne, Mona Lisa, Betty, Alice, the name’s been changed to protect women who can’t stand in a room holding hands because you can’t trust heterosexuals to love love, however it comes. So I recorded the party for her, for them, the mica bit away from the action to catch the feel of waves touching shore and letting go, the wash of moods across the hours of drink and yes, some grapes were thrown and I breathed the quickening revelationof a cigarette, someone said “I gave up underwear for Lent” and I hope they play the tape while making love. As if finally the world’s made happy by who they are, laughing with, not at the nipple lick clit kiss hugin bed and after, the on and on of meals and moons and bills and burning days of pretending they don’t exist. “Who’s she? Just a friend.” And oceans are merely dewupon the land.\n",
      "time: 577 µs (started: 2023-09-10 13:38:32 +00:00)\n"
     ]
    }
   ],
   "source": [
    "print( poet[12093], poem[12093])"
   ]
  },
  {
   "cell_type": "code",
   "execution_count": null,
   "metadata": {},
   "outputs": [
    {
     "name": "stdout",
     "output_type": "stream",
     "text": [
      "\n",
      "Approximate Nearest Neighbor Recall@5: 100.00\n",
      "\n",
      "\n",
      "========\n",
      "\n",
      "time: 21.9 ms (started: 2023-09-10 13:39:18 +00:00)\n"
     ]
    }
   ],
   "source": [
    "## Using cosine distance to identify the ones that ANN would miss\n",
    "\n",
    "correct_hits = util.semantic_search(question_embedding, corpus_embeddings, top_k=top_k_hits)[0]\n",
    "correct_hits_ids = set([hit['corpus_id'] for hit in correct_hits])\n",
    "\n",
    "ann_corpus_ids = set([hit['corpus_id'] for hit in hits])\n",
    "if len(ann_corpus_ids) != len(correct_hits_ids):\n",
    "    print(\"Approximate Nearest Neighbor returned a different number of results than expected\")\n",
    "\n",
    "recall = len(ann_corpus_ids.intersection(correct_hits_ids)) / len(correct_hits_ids)\n",
    "print(\"\\nApproximate Nearest Neighbor Recall@{}: {:.2f}\".format(top_k_hits, recall * 100))\n",
    "\n",
    "if recall < 1:\n",
    "    print(\"Missing results:\")\n",
    "    for hit in correct_hits[0:top_k_hits]:\n",
    "        if hit['corpus_id'] not in ann_corpus_ids:\n",
    "            print(\"\\t{:.3f}\\t{}\".format(hit['score'], poem[hit['corpus_id']]))\n",
    "print(\"\\n\\n========\\n\")"
   ]
  }
 ],
 "metadata": {
  "language_info": {
   "name": "python"
  }
 },
 "nbformat": 4,
 "nbformat_minor": 2
}
