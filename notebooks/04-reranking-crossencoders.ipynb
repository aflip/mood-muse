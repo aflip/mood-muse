{
 "cells": [
  {
   "cell_type": "markdown",
   "metadata": {},
   "source": [
    "I tried out different re-ranking models based on the guide on sentence-transformers website, all the top ranked one performed well. \n",
    "given that the re-ranking of poems is a subjective test, i dont think the re ranker made any major difference. ymmv"
   ]
  },
  {
   "cell_type": "code",
   "execution_count": 2,
   "metadata": {},
   "outputs": [],
   "source": [
    "from sentence_transformers import SentenceTransformer, util\n"
   ]
  },
  {
   "cell_type": "code",
   "execution_count": 3,
   "metadata": {},
   "outputs": [],
   "source": [
    "model_name = \"sentence-transformers/all-mpnet-base-v2\"\n",
    "model = SentenceTransformer(model_name)\n",
    "model.max_seq_length = 384"
   ]
  },
  {
   "cell_type": "code",
   "execution_count": 4,
   "metadata": {},
   "outputs": [],
   "source": [
    "corpus_embedding_cache_path = (\n",
    "    \"data/all-poems-corpus-embeddings-sentence-transformers-all-mpnet-base-v2.pkl\"\n",
    ")"
   ]
  },
  {
   "cell_type": "code",
   "execution_count": 5,
   "metadata": {},
   "outputs": [],
   "source": [
    "import pickle\n",
    "\n",
    "# Load the Poem embeddings\n",
    "\n",
    "with open(corpus_embedding_cache_path, \"rb\") as fIn:\n",
    "    poem_cache_data = pickle.load(fIn)\n",
    "    poems = poem_cache_data[\"poems\"]\n",
    "    corpus_embeddings = poem_cache_data[\"embeddings\"]"
   ]
  },
  {
   "cell_type": "code",
   "execution_count": 6,
   "metadata": {},
   "outputs": [],
   "source": [
    "import ngtpy\n",
    "\n",
    "corpus_ix_name = (\n",
    "    \"indices/ngt_index_corpus_embeddings_sentence-transformers-all-mpnet-base-v2\"\n",
    ")\n",
    "ngt_corpus_index = ngtpy.Index(bytes(corpus_ix_name, encoding=\"utf8\"))\n"
   ]
  },
  {
   "cell_type": "code",
   "execution_count": 101,
   "metadata": {},
   "outputs": [],
   "source": [
    "# Load index\n",
    "# \"indices/ngt_index_corpus_embeddings_sentence-transformers-all-mpnet-base-v2\" - definite improvement on reranking\n",
    "import ngtpy\n",
    "\n",
    "merged_ix_name = (\n",
    "    \"indices/ngt_index_merged_embeddings_sentence-transformers-all-mpnet-base-v2\"\n",
    ")\n",
    "ngt_merged_index = ngtpy.Index(bytes(corpus_ix_name, encoding=\"utf8\"))\n"
   ]
  },
  {
   "cell_type": "code",
   "execution_count": 65,
   "metadata": {},
   "outputs": [],
   "source": [
    "EMB_SIZE = corpus_embeddings.shape[1]"
   ]
  },
  {
   "cell_type": "code",
   "execution_count": null,
   "metadata": {},
   "outputs": [],
   "source": [
    "from sentence_transformers import CrossEncoder\n",
    "\n",
    "cross_encoder = CrossEncoder(\"cross-encoder/ms-marco-MiniLM-L-12-v2\")\n"
   ]
  },
  {
   "cell_type": "code",
   "execution_count": 196,
   "metadata": {},
   "outputs": [],
   "source": [
    "query = [\"what it's like to wake up in the morning\"]\n",
    "query_embedding = model.encode(query)\n"
   ]
  },
  {
   "cell_type": "code",
   "execution_count": 197,
   "metadata": {},
   "outputs": [],
   "source": [
    "corpus_results = ngt_corpus_index.search(query_embedding, size=15)\n",
    "\n",
    "# print(\"ID\\tDistance\")\n",
    "# for result in corpus_results:\n",
    "#     print(\"{}\\t{}\".format(*result))\n",
    "# print(\n",
    "#     \"# of distance computations=\"\n",
    "#     + str(ngt_corpus_index.get_num_of_distance_computations())\n",
    "# )"
   ]
  },
  {
   "cell_type": "code",
   "execution_count": 198,
   "metadata": {},
   "outputs": [],
   "source": [
    "# Re-Ranking\n",
    "cross_inp = [[query[0], poems[result[0]]] for result in corpus_results]\n",
    "cross_scores = cross_encoder.predict(cross_inp)\n"
   ]
  },
  {
   "cell_type": "code",
   "execution_count": 199,
   "metadata": {},
   "outputs": [],
   "source": [
    "corpus_result_dict = [{\"corpus_id\": tup[0], \"score\": tup[1]}\n",
    "                      for tup in corpus_results]\n",
    "\n",
    "# Add 'cross-score' to each dict\n",
    "for idx in range(len(cross_scores)):\n",
    "    corpus_result_dict[idx][\"cross-score\"] = cross_scores[idx]\n"
   ]
  },
  {
   "cell_type": "code",
   "execution_count": 200,
   "metadata": {},
   "outputs": [
    {
     "data": {
      "text/plain": [
       "array([ -4.6374702 ,   4.019782  ,  -0.3510906 ,  -2.6707845 ,\n",
       "         5.9262915 ,  -5.978517  ,  -6.489192  ,  -0.38145903,\n",
       "        -8.265888  , -10.927521  ,  -6.7275505 ,  -3.9414783 ,\n",
       "        -6.9339647 , -10.733882  , -10.004258  ], dtype=float32)"
      ]
     },
     "execution_count": 200,
     "metadata": {},
     "output_type": "execute_result"
    }
   ],
   "source": [
    "cross_scores"
   ]
  },
  {
   "cell_type": "code",
   "execution_count": 202,
   "metadata": {},
   "outputs": [],
   "source": [
    "import numpy as np\n",
    "\n",
    "x = np.concatenate((query_embedding, query_embedding))\n",
    "merged_results = ngt_merged_index.search(x, size=15)"
   ]
  },
  {
   "cell_type": "code",
   "execution_count": 203,
   "metadata": {},
   "outputs": [],
   "source": [
    "# Re-Ranking\n",
    "merged_cross_inp = [[query[0], poems[result[0]]] for result in merged_results]\n",
    "merged_cross_scores = cross_encoder.predict(merged_cross_inp)\n"
   ]
  },
  {
   "cell_type": "code",
   "execution_count": 204,
   "metadata": {},
   "outputs": [
    {
     "data": {
      "text/plain": [
       "array([  4.019782 ,  -4.6374702,  -1.5630159,  -7.324999 ,  -2.7436388,\n",
       "        -8.265888 , -10.245801 ,  -0.7476058,   0.6734859,  -0.3510906,\n",
       "        -6.489192 ,  -8.761709 ,  -5.5522566,  -7.7540994,   1.3845894],\n",
       "      dtype=float32)"
      ]
     },
     "execution_count": 204,
     "metadata": {},
     "output_type": "execute_result"
    }
   ],
   "source": [
    "merged_cross_scores\n"
   ]
  },
  {
   "cell_type": "code",
   "execution_count": 205,
   "metadata": {},
   "outputs": [],
   "source": [
    "merged_corpus_result_dict = [\n",
    "    {\"corpus_id\": tup[0], \"score\": tup[1]} for tup in merged_results\n",
    "]\n",
    "\n",
    "# Add 'cross-score' to each dict\n",
    "for idx in range(len(merged_cross_scores)):\n",
    "    merged_corpus_result_dict[idx][\"cross-score\"] = merged_cross_scores[idx]"
   ]
  },
  {
   "cell_type": "code",
   "execution_count": 206,
   "metadata": {},
   "outputs": [
    {
     "data": {
      "text/plain": [
       "['By: James K. Zimmerman\\n this morning I felt my life if you were dead the expansiveness of the bed the birds still singing the remnants of the smell of coffee in the morning the emptiness of thought the deafening silence of my heart',\n",
       " 'By: Rose Fyleman\\n I wake in the morning early And always, the very first thing, I poke out my head and I sit up in bed And I sing and I sing and I sing',\n",
       " 'By: Richard Tagett\\n I like to lie with you wordless on black cloud rooft beach in late june 5 o’clock tempest on clump weed bed with sand fitting your contours like tailor made and I like to wash my summer brown face in north cold hudson rapids with octagon soap knees niched in steamy rocks where last night’s frog stared at our buddhist sleep but most of all I like to see the morning happen . . . I like to go down vertical mountains where lanny goshkitch meditated crashing poplars sap sticky arms flailing as thermosed green tea anoints sneakers and blood soakt brow I taste and love myself a split second and I like to feel my own full scrotum as I horizon the whole crisp linen earth in my beatitude waiting miguel-like in maskt fantasy for christ-like you— whoever you are but most of all I like to see the morning happen . . . I like to look at books howl haikus of the seasons of the mind that I might know the knowing and the simplest to think of all of us taking turns at catching each other in the rye and I like to taste cold absinthe on hot hung sunday mornings discussing orgies symposiums and sounds with hoary headed poets in upstairs jazz club in Japan but most of all I like to see the morning happen when k and ike still sleep and only the denver night riders hum contrasts to orient jazzy feather beasts in the dewy garden of real earth where I can sink my naked feet cool']"
      ]
     },
     "execution_count": 206,
     "metadata": {},
     "output_type": "execute_result"
    }
   ],
   "source": [
    "[poems[result[0]] for result in corpus_results[0:3]]\n"
   ]
  },
  {
   "cell_type": "code",
   "execution_count": 207,
   "metadata": {},
   "outputs": [
    {
     "data": {
      "text/plain": [
       "['By: Rose Fyleman\\n I wake in the morning early And always, the very first thing, I poke out my head and I sit up in bed And I sing and I sing and I sing',\n",
       " 'By: James K. Zimmerman\\n this morning I felt my life if you were dead the expansiveness of the bed the birds still singing the remnants of the smell of coffee in the morning the emptiness of thought the deafening silence of my heart',\n",
       " 'By: Kate Rushin\\n In the hour before dawn, I rise up to give myself a little bit before it all starts again. “Rise up” is not really what I do; I lie there, awake, on my pallet, and very still, barely breathing. I listen, make sure no one else is stirring, make sure nobody hears me. I take a few moments to listen to my blood beating in my ear, hear my own breath easing out my lips. I let myself sink, ease down again, for just a few minutes in the cool gray before it all starts all over again and goes and goes until the middle of the night and I collapse on rough cloth, too tired to ease into sleep, too frayed to dream good dreams, knots in my back like cobblestones. I want to work for myself not for somebody else. I want to earn my own keep']"
      ]
     },
     "execution_count": 207,
     "metadata": {},
     "output_type": "execute_result"
    }
   ],
   "source": [
    "[poems[result[0]] for result in merged_results[0:3]]"
   ]
  },
  {
   "cell_type": "code",
   "execution_count": 208,
   "metadata": {},
   "outputs": [
    {
     "name": "stdout",
     "output_type": "stream",
     "text": [
      "Top-3 Cross-Encoder Re-ranker hits\n",
      "query was:  [\"what it's like to wake up in the morning\"]\n",
      "\t5.926\tBy: Edward Hirsch  I used to mock my father and his chums for getting up early on Sunday morning and drinking coffee at a local spot but now I’m one of those chumps. No one cares about my old humiliations but they go on dragging through my sleep like a string of empty tin cans rattling behind an abandoned car. It’s like this: just when you think you have forgotten that red-haired girl who left you stranded in a parking lot forty years ago, you wake up early enough to see her disappearing around the corner of your dream on someone else’s motorcycle roaring onto the highway at sunrise. And so now I’m sitting in a dimly lit café﻿ full of early morning risers where the windows are covered with soot and the coffee is warm and bitter\n",
      "\t4.020\tBy: Rose Fyleman  I wake in the morning early And always, the very first thing, I poke out my head and I sit up in bed And I sing and I sing and I sing\n",
      "\t-0.351\tBy: Richard Tagett  I like to lie with you wordless on black cloud rooft beach in late june 5 o’clock tempest on clump weed bed with sand fitting your contours like tailor made and I like to wash my summer brown face in north cold hudson rapids with octagon soap knees niched in steamy rocks where last night’s frog stared at our buddhist sleep but most of all I like to see the morning happen . . . I like to go down vertical mountains where lanny goshkitch meditated crashing poplars sap sticky arms flailing as thermosed green tea anoints sneakers and blood soakt brow I taste and love myself a split second and I like to feel my own full scrotum as I horizon the whole crisp linen earth in my beatitude waiting miguel-like in maskt fantasy for christ-like you— whoever you are but most of all I like to see the morning happen . . . I like to look at books howl haikus of the seasons of the mind that I might know the knowing and the simplest to think of all of us taking turns at catching each other in the rye and I like to taste cold absinthe on hot hung sunday mornings discussing orgies symposiums and sounds with hoary headed poets in upstairs jazz club in Japan but most of all I like to see the morning happen when k and ike still sleep and only the denver night riders hum contrasts to orient jazzy feather beasts in the dewy garden of real earth where I can sink my naked feet cool\n"
     ]
    }
   ],
   "source": [
    "print(\"Top-3 Cross-Encoder Re-ranker hits\")\n",
    "print(\"query was: \", query)\n",
    "reranked_hits = sorted(\n",
    "    corpus_result_dict, key=lambda x: x[\"cross-score\"], reverse=True)\n",
    "for hit in reranked_hits[0:3]:\n",
    "    print(\n",
    "        \"\\t{:.3f}\\t{}\".format(\n",
    "            hit[\"cross-score\"], poems[hit[\"corpus_id\"]].replace(\"\\n\", \" \")\n",
    "        )\n",
    "    )\n"
   ]
  },
  {
   "cell_type": "code",
   "execution_count": 209,
   "metadata": {},
   "outputs": [
    {
     "name": "stdout",
     "output_type": "stream",
     "text": [
      "Top-3 Cross-Encoder merged Re-ranker hits\n",
      "query was:  [\"what it's like to wake up in the morning\"]\n",
      "\t4.020\tBy: Rose Fyleman  I wake in the morning early And always, the very first thing, I poke out my head and I sit up in bed And I sing and I sing and I sing\n",
      "\t1.385\tBy: Rusty Morrison  In through our bedroom window, the full dawn-scape concusses. Difficult to sustain sleep's equilibrium of wordlessness. Naming anything, like stepping barefoot in wet sand up to my ankles. Name after name, sinking me farther beneath waking's buoyancy. House, this morning, is pale with the rush of what night siphoned off. Objects, still emptied of resemblance, hum their chord-less cantos. Bloodless, my knuckles knock on walls without echo, testing singularities. Sun on the cutlery offers an ageless sheen. Though it ages the silver relentlessly. New, but still rudimentary tools to be gleaned from my over-used weaponry\n",
      "\t0.673\tBy: Ron Padgett  The morning coffee. I'm not sure why I drink it. Maybe it's the ritual of the cup, the spoon, the hot water, the milk, and the little heap of brown grit, the way they come together to form a nail I can hang the day on. It's something to do between being asleep and being awake. Surely there's something better to do, though, than to drink a cup of instant coffee. Such as meditate? About what? About having a cup of coffee. A cup of coffee whose first drink is too hot and whose last drink is too cool, but whose many in-between drinks are, like Baby Bear's por- ridge, just right. Papa Bear looks disgruntled. He removes his spectacles and swivels his eyes onto the cup that sits before Baby Bear, and then, after a discrete cough, reaches over and picks it up. Baby Bear doesn't understand this disruption of the morning routine. Papa Bear brings the cup close to his face and peers at it intently. The cup shatters in his paw, explodes actually, sending fragments and brown liquid all over the room. In a way it's good that Mama Bear isn't there. Better that she rest in her grave beyond the garden, unaware of what has happened to the world\n"
     ]
    }
   ],
   "source": [
    "print(\"Top-3 Cross-Encoder merged Re-ranker hits\")\n",
    "print(\"query was: \", query)\n",
    "merged_reranked_hits = sorted(\n",
    "    merged_corpus_result_dict, key=lambda x: x[\"cross-score\"], reverse=True\n",
    ")\n",
    "for hit in merged_reranked_hits[0:3]:\n",
    "    print(\n",
    "        \"\\t{:.3f}\\t{}\".format(\n",
    "            hit[\"cross-score\"], poems[hit[\"corpus_id\"]].replace(\"\\n\", \" \")\n",
    "        )\n",
    "    )"
   ]
  },
  {
   "cell_type": "code",
   "execution_count": 7,
   "metadata": {},
   "outputs": [],
   "source": [
    "import pandas as pd\n"
   ]
  },
  {
   "cell_type": "code",
   "execution_count": 9,
   "metadata": {},
   "outputs": [],
   "source": [
    "df = pd.read_csv(\"data/all-poems-en-for-embedding.csv\")\n"
   ]
  },
  {
   "cell_type": "code",
   "execution_count": 10,
   "metadata": {},
   "outputs": [
    {
     "data": {
      "text/html": [
       "<div>\n",
       "<style scoped>\n",
       "    .dataframe tbody tr th:only-of-type {\n",
       "        vertical-align: middle;\n",
       "    }\n",
       "\n",
       "    .dataframe tbody tr th {\n",
       "        vertical-align: top;\n",
       "    }\n",
       "\n",
       "    .dataframe thead th {\n",
       "        text-align: right;\n",
       "    }\n",
       "</style>\n",
       "<table border=\"1\" class=\"dataframe\">\n",
       "  <thead>\n",
       "    <tr style=\"text-align: right;\">\n",
       "      <th></th>\n",
       "      <th>poem_id</th>\n",
       "      <th>cleaned_gen</th>\n",
       "      <th>embed_content</th>\n",
       "    </tr>\n",
       "  </thead>\n",
       "  <tbody>\n",
       "    <tr>\n",
       "      <th>0</th>\n",
       "      <td>58566</td>\n",
       "      <td>Emotions: The poem evokes a sense of curiosity...</td>\n",
       "      <td>By: Kathleen Jamie\\nWell, friend, we’re here a...</td>\n",
       "    </tr>\n",
       "    <tr>\n",
       "      <th>1</th>\n",
       "      <td>53997</td>\n",
       "      <td>Emotions: The poem evokes a sense of melanchol...</td>\n",
       "      <td>By: Walter Clyde Curry\\nGrieve not that winter...</td>\n",
       "    </tr>\n",
       "    <tr>\n",
       "      <th>2</th>\n",
       "      <td>27139</td>\n",
       "      <td>Emotions:  - Loneliness  - Sadness  - Nostalgi...</td>\n",
       "      <td>By: Theodore Weiss\\nwho can bear the idea of E...</td>\n",
       "    </tr>\n",
       "    <tr>\n",
       "      <th>3</th>\n",
       "      <td>53778</td>\n",
       "      <td>Emotions: The poem evokes a sense of restlessn...</td>\n",
       "      <td>By: Israel Zangwill\\nProsaic miles of streets ...</td>\n",
       "    </tr>\n",
       "    <tr>\n",
       "      <th>4</th>\n",
       "      <td>152076</td>\n",
       "      <td>Emotions: Confusion, frustration, boredom, a d...</td>\n",
       "      <td>By: Matthew Zapruder\\nAcross the deep eternal ...</td>\n",
       "    </tr>\n",
       "  </tbody>\n",
       "</table>\n",
       "</div>"
      ],
      "text/plain": [
       "   poem_id                                        cleaned_gen   \n",
       "0    58566  Emotions: The poem evokes a sense of curiosity...  \\\n",
       "1    53997  Emotions: The poem evokes a sense of melanchol...   \n",
       "2    27139  Emotions:  - Loneliness  - Sadness  - Nostalgi...   \n",
       "3    53778  Emotions: The poem evokes a sense of restlessn...   \n",
       "4   152076  Emotions: Confusion, frustration, boredom, a d...   \n",
       "\n",
       "                                       embed_content  \n",
       "0  By: Kathleen Jamie\\nWell, friend, we’re here a...  \n",
       "1  By: Walter Clyde Curry\\nGrieve not that winter...  \n",
       "2  By: Theodore Weiss\\nwho can bear the idea of E...  \n",
       "3  By: Israel Zangwill\\nProsaic miles of streets ...  \n",
       "4  By: Matthew Zapruder\\nAcross the deep eternal ...  "
      ]
     },
     "execution_count": 10,
     "metadata": {},
     "output_type": "execute_result"
    }
   ],
   "source": [
    "df.head()\n"
   ]
  },
  {
   "cell_type": "code",
   "execution_count": 13,
   "metadata": {},
   "outputs": [
    {
     "data": {
      "text/plain": [
       "13137    By: Ko Un\\nYou fools who ask what god is shoul...\n",
       "Name: embed_content, dtype: object"
      ]
     },
     "execution_count": 13,
     "metadata": {},
     "output_type": "execute_result"
    }
   ],
   "source": [
    "df[df.poem_id == 57527].embed_content"
   ]
  }
 ],
 "metadata": {
  "kernelspec": {
   "display_name": "Python 3",
   "language": "python",
   "name": "python3"
  },
  "language_info": {
   "codemirror_mode": {
    "name": "ipython",
    "version": 3
   },
   "file_extension": ".py",
   "mimetype": "text/x-python",
   "name": "python",
   "nbconvert_exporter": "python",
   "pygments_lexer": "ipython3",
   "version": "3.10.0"
  }
 },
 "nbformat": 4,
 "nbformat_minor": 2
}
