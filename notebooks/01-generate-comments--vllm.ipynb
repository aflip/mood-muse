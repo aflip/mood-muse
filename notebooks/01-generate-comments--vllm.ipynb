{
 "cells": [
  {
   "cell_type": "markdown",
   "metadata": {},
   "source": [
    "## Generating comments on the poems with VLLM\n",
    "\n",
    "VLLM allows for batched processing and much higher throughput from LLMs. \n",
    "\n",
    "https://vllm.readthedocs.io/en/latest/\n",
    "\n",
    "They have a very active discord server and folks are very helpful. I would strongly recommend hanging out there because the documentation doesn't cover some common snags and most of these have been spoken about on the server. "
   ]
  },
  {
   "cell_type": "code",
   "execution_count": null,
   "metadata": {},
   "outputs": [],
   "source": [
    "%pip install vllm pandas ipywidgets \n"
   ]
  },
  {
   "cell_type": "code",
   "execution_count": 1,
   "metadata": {},
   "outputs": [],
   "source": [
    "import pandas as pd\n"
   ]
  },
  {
   "cell_type": "code",
   "execution_count": 27,
   "metadata": {},
   "outputs": [],
   "source": [
    "df = pd.read_csv(\"data/all-poems-for-vllm.csv\")\n"
   ]
  },
  {
   "cell_type": "markdown",
   "metadata": {},
   "source": [
    "Took a lot of iterations with various models to finally settle on wizard vicuna and this particular prompt. the amount of difference even small changes in the instructions can make is mind-boggling. "
   ]
  },
  {
   "cell_type": "code",
   "execution_count": 38,
   "metadata": {},
   "outputs": [],
   "source": [
    "prefix = \"A chat between a curious human and an artificial intelligence assistant. The assistant gives thoughtful and smart answers to the human's questions.\\n\\n\"\n",
    "instruction = \" ### Human: You are an expert poetry critic. What are the emotions, themes and tone of this poem?  Provide the answer as a list\"\n",
    "suffix = \" ### Assisant: \"\n"
   ]
  },
  {
   "cell_type": "code",
   "execution_count": 39,
   "metadata": {},
   "outputs": [],
   "source": [
    "def format_poems(poems):\n",
    "    return f\"{prefix}{poems}. {instruction}{suffix}\"\n"
   ]
  },
  {
   "cell_type": "code",
   "execution_count": 40,
   "metadata": {},
   "outputs": [],
   "source": [
    "df[\"formatted_text\"] = df[\"cleaned_content\"].apply(format_poems)"
   ]
  },
  {
   "cell_type": "code",
   "execution_count": 41,
   "metadata": {},
   "outputs": [],
   "source": [
    "df.rename(columns={\"url_num\": \"poem_id\"}, inplace=True)\n"
   ]
  },
  {
   "cell_type": "code",
   "execution_count": 42,
   "metadata": {},
   "outputs": [
    {
     "data": {
      "text/html": [
       "<div>\n",
       "<style scoped>\n",
       "    .dataframe tbody tr th:only-of-type {\n",
       "        vertical-align: middle;\n",
       "    }\n",
       "\n",
       "    .dataframe tbody tr th {\n",
       "        vertical-align: top;\n",
       "    }\n",
       "\n",
       "    .dataframe thead th {\n",
       "        text-align: right;\n",
       "    }\n",
       "</style>\n",
       "<table border=\"1\" class=\"dataframe\">\n",
       "  <thead>\n",
       "    <tr style=\"text-align: right;\">\n",
       "      <th></th>\n",
       "      <th>cleaned_content</th>\n",
       "      <th>poem_id</th>\n",
       "      <th>truncated_text</th>\n",
       "      <th>formatted_text</th>\n",
       "    </tr>\n",
       "  </thead>\n",
       "  <tbody>\n",
       "    <tr>\n",
       "      <th>0</th>\n",
       "      <td>Well, friend, we’re here again — sauntering th...</td>\n",
       "      <td>58566</td>\n",
       "      <td>Well, friend, we’re here again — sauntering th...</td>\n",
       "      <td>A chat between a curious human and an artifici...</td>\n",
       "    </tr>\n",
       "    <tr>\n",
       "      <th>1</th>\n",
       "      <td>Grieve not that winter masks the yet quick ear...</td>\n",
       "      <td>53997</td>\n",
       "      <td>Grieve not that winter masks the yet quick ear...</td>\n",
       "      <td>A chat between a curious human and an artifici...</td>\n",
       "    </tr>\n",
       "    <tr>\n",
       "      <th>2</th>\n",
       "      <td>who can bear the idea of Eternal Recurrence? I...</td>\n",
       "      <td>27139</td>\n",
       "      <td>who can bear the idea of Eternal Recurrence? I...</td>\n",
       "      <td>A chat between a curious human and an artifici...</td>\n",
       "    </tr>\n",
       "    <tr>\n",
       "      <th>3</th>\n",
       "      <td>Prosaic miles of streets stretch all round, As...</td>\n",
       "      <td>53778</td>\n",
       "      <td>Prosaic miles of streets stretch all round, As...</td>\n",
       "      <td>A chat between a curious human and an artifici...</td>\n",
       "    </tr>\n",
       "    <tr>\n",
       "      <th>4</th>\n",
       "      <td>Across the deep eternal sky a thousand changin...</td>\n",
       "      <td>152076</td>\n",
       "      <td>Across the deep eternal sky a thousand changin...</td>\n",
       "      <td>A chat between a curious human and an artifici...</td>\n",
       "    </tr>\n",
       "  </tbody>\n",
       "</table>\n",
       "</div>"
      ],
      "text/plain": [
       "                                     cleaned_content  poem_id  \\\n",
       "0  Well, friend, we’re here again — sauntering th...    58566   \n",
       "1  Grieve not that winter masks the yet quick ear...    53997   \n",
       "2  who can bear the idea of Eternal Recurrence? I...    27139   \n",
       "3  Prosaic miles of streets stretch all round, As...    53778   \n",
       "4  Across the deep eternal sky a thousand changin...   152076   \n",
       "\n",
       "                                      truncated_text  \\\n",
       "0  Well, friend, we’re here again — sauntering th...   \n",
       "1  Grieve not that winter masks the yet quick ear...   \n",
       "2  who can bear the idea of Eternal Recurrence? I...   \n",
       "3  Prosaic miles of streets stretch all round, As...   \n",
       "4  Across the deep eternal sky a thousand changin...   \n",
       "\n",
       "                                      formatted_text  \n",
       "0  A chat between a curious human and an artifici...  \n",
       "1  A chat between a curious human and an artifici...  \n",
       "2  A chat between a curious human and an artifici...  \n",
       "3  A chat between a curious human and an artifici...  \n",
       "4  A chat between a curious human and an artifici...  "
      ]
     },
     "execution_count": 42,
     "metadata": {},
     "output_type": "execute_result"
    }
   ],
   "source": [
    "df.head()"
   ]
  },
  {
   "cell_type": "code",
   "execution_count": 43,
   "metadata": {},
   "outputs": [],
   "source": [
    "df.drop(columns=[\"cleaned_content\"], inplace=True)\n"
   ]
  },
  {
   "cell_type": "code",
   "execution_count": null,
   "metadata": {},
   "outputs": [],
   "source": [
    "import numpy as np\n",
    "\n",
    "# Although VLLM documentation says you don't need to batch the input manually,\n",
    "# I found that if i didn't I would run into CUDA out of memory or system out of RAM\n",
    "# errors. Took some fiddling around to figure out what size works. \n",
    "# Trained this on a RTX A5000 24GB VRAM instance\n",
    "# Runtime for the batched prompts was about 2 hours.\n",
    "\n",
    "batch_size = 64\n",
    "\n",
    "poem_batches = [group for _, group in df.groupby(\n",
    "    np.arange(len(df)) // batch_size)]\n"
   ]
  },
  {
   "cell_type": "code",
   "execution_count": null,
   "metadata": {},
   "outputs": [],
   "source": [
    "formatted_prompts = [batch[\"formatted_text\"].tolist() for batch in poem_batches]"
   ]
  },
  {
   "cell_type": "code",
   "execution_count": 1,
   "metadata": {},
   "outputs": [],
   "source": [
    "from vllm import LLM, SamplingParams\n",
    "\n",
    "MODEL = \"TheBloke/wizard-vicuna-13B-AWQ\""
   ]
  },
  {
   "cell_type": "code",
   "execution_count": null,
   "metadata": {},
   "outputs": [],
   "source": [
    "llm = LLM(model=MODEL, trust_remote_code=True, quantization=\"awq\")"
   ]
  },
  {
   "cell_type": "code",
   "execution_count": 188,
   "metadata": {},
   "outputs": [],
   "source": [
    "sampling_params = SamplingParams(\n",
    "    temperature=0.3,\n",
    "    top_p=0.9,\n",
    "    best_of=5,\n",
    "    top_k=50,\n",
    "    max_tokens=150,\n",
    ")\n",
    "\n",
    "#took a lot of fiddling with the parameters to ensure that there wasn't much repetition and that the answers were coherent. \n"
   ]
  },
  {
   "cell_type": "code",
   "execution_count": 212,
   "metadata": {},
   "outputs": [
    {
     "name": "stderr",
     "output_type": "stream",
     "text": [
      "Processed prompts: 100%|██████████| 1/1 [01:28<00:00, 88.57s/it]\n"
     ]
    }
   ],
   "source": [
    "# There were many many of these trial runs to ensure that the prompts were good and the results were consistant\n",
    "trial_outputs = llm.generate(df.iloc[8974].formatted_text, sampling_params)"
   ]
  },
  {
   "cell_type": "code",
   "execution_count": 215,
   "metadata": {},
   "outputs": [
    {
     "name": "stdout",
     "output_type": "stream",
     "text": [
      "1. Emotions: Amusement, irony, wit, and humor.\n",
      "2. Themes: Honesty, morality, policy, and the nature of language.\n",
      "3. Tone: Playful, sarcastic, and philosophical.\n"
     ]
    }
   ],
   "source": [
    "for output in trial_outputs:\n",
    "    print(output.trial_outputs[0].text)"
   ]
  },
  {
   "cell_type": "code",
   "execution_count": null,
   "metadata": {},
   "outputs": [],
   "source": [
    "\"\"\"\n",
    "Generate and assign text outputs to a DataFrame based on formatted prompts.\n",
    "\n",
    "This code processes formatted prompts in batches, generates text outputs, and assigns them to a DataFrame for poems with matching IDs.\n",
    "It iterates through each batch of prompts and associates the generated text with the corresponding poem in the DataFrame.\n",
    "\n",
    "Parameters:\n",
    "- formatted_prompts (list): A list of formatted prompts to generate text from.\n",
    "- llm: The language model used for text generation.\n",
    "- sampling_params: Parameters for controlling the sampling strategy during text generation.\n",
    "- poem_batches (list): A list of batches containing poem data, each with a \"poem_id\" attribute.\n",
    "- df (DataFrame): The DataFrame containing poem data and a \"generated_text\" column to store the generated output.\n",
    "\n",
    "\"\"\"\n",
    "for i, batch in enumerate(formatted_prompts):\n",
    "    # Generate the output\n",
    "    outputs = llm.generate(batch, sampling_params)\n",
    "    # For each poem in the batch\n",
    "    for j, poem_id in enumerate(poem_batches[i][\"poem_id\"]):\n",
    "        # Assign the generated text to the \"generated_text\" column in the dataframe\n",
    "        df.loc[df[\"poem_id\"] == poem_id, \"generated_text\"] = outputs[j].outputs[0].text"
   ]
  }
 ],
 "metadata": {
  "kernelspec": {
   "display_name": "Python 3",
   "language": "python",
   "name": "python3"
  },
  "language_info": {
   "codemirror_mode": {
    "name": "ipython",
    "version": 3
   },
   "file_extension": ".py",
   "mimetype": "text/x-python",
   "name": "python",
   "nbconvert_exporter": "python",
   "pygments_lexer": "ipython3",
   "version": "3.11.5"
  }
 },
 "nbformat": 4,
 "nbformat_minor": 2
}
